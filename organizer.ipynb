{
  "cells": [
    {
      "cell_type": "markdown",
      "metadata": {
        "id": "view-in-github",
        "colab_type": "text"
      },
      "source": [
        "<a href=\"https://colab.research.google.com/github/rewersiwo/1/blob/main/organizer.ipynb\" target=\"_parent\"><img src=\"https://colab.research.google.com/assets/colab-badge.svg\" alt=\"Open In Colab\"/></a>"
      ]
    },
    {
      "cell_type": "code",
      "source": [
        "import os\n",
        "import datetime\n",
        "\n",
        "def dodaj_zadanie(zadania, opis, termin_wykonania):\n",
        "    zadanie = {\"Opis\": opis, \"Termin\": termin_wykonania}\n",
        "    zadania.append(zadanie)\n",
        "\n",
        "def wyswietl_zadania(zadania):\n",
        "    if not zadania:\n",
        "        print(\"Brak zadań.\")\n",
        "        return\n",
        "\n",
        "    print(\"Zadania:\")\n",
        "    for idx, zadanie in enumerate(zadania, start=1):\n",
        "        print(f\"{idx}. {zadanie['Opis']} (Termin: {zadanie['Termin']})\")\n",
        "\n",
        "def usun_zadanie(zadania, indeks):\n",
        "    if 1 <= indeks <= len(zadania):\n",
        "        usuniete_zadanie = zadania.pop(indeks - 1)\n",
        "        print(f\"Usunięto zadanie: {usuniete_zadanie['Opis']}\")\n",
        "    else:\n",
        "        print(\"Nieprawidłowy numer zadania.\")\n",
        "\n",
        "def zapisz_do_pliku(zadania, nazwa_pliku=\"zadania.txt\"):\n",
        "    with open(nazwa_pliku, \"w\") as file:\n",
        "        for zadanie in zadania:\n",
        "            file.write(f\"{zadanie['Opis']},{zadanie['Termin']}\\n\")\n",
        "\n",
        "def wczytaj_z_pliku(nazwa_pliku=\"zadania.txt\"):\n",
        "    zadania = []\n",
        "    if os.path.exists(nazwa_pliku):\n",
        "        with open(nazwa_pliku, \"r\") as file:\n",
        "            for line in file:\n",
        "                opis, termin = line.strip().split(',')\n",
        "                zadania.append({\"Opis\": opis, \"Termin\": termin})\n",
        "    return zadania\n",
        "\n",
        "def main():\n",
        "    zadania = wczytaj_z_pliku()\n",
        "\n",
        "    while True:\n",
        "        print(\"\\n=== Organizer Zadań ===\")\n",
        "        print(\"1. Dodaj zadanie\")\n",
        "        print(\"2. Wyświetl zadania\")\n",
        "        print(\"3. Usuń zadanie\")\n",
        "        print(\"4. Zakończ\")\n",
        "\n",
        "        wybor = input(\"Twój wybór: \")\n",
        "\n",
        "        if wybor == \"1\":\n",
        "            opis = input(\"Podaj opis zadania: \")\n",
        "            termin_wykonania = input(\"Podaj termin wykonania (RRRR-MM-DD): \")\n",
        "            dodaj_zadanie(zadania, opis, termin_wykonania)\n",
        "        elif wybor == \"2\":\n",
        "            wyswietl_zadania(zadania)\n",
        "        elif wybor == \"3\":\n",
        "            indeks = int(input(\"Podaj numer zadania do usunięcia: \"))\n",
        "            usun_zadanie(zadania, indeks)\n",
        "        elif wybor == \"4\":\n",
        "            zapisz_do_pliku(zadania)\n",
        "            print(\"Dziękujemy za korzystanie z organizera zadań. Do zobaczenia!\")\n",
        "            break\n",
        "        else:\n",
        "            print(\"Nieprawidłowy wybór. Wybierz ponownie.\")\n",
        "\n",
        "if __name__ == \"__main__\":\n",
        "    main()"
      ],
      "metadata": {
        "colab": {
          "base_uri": "https://localhost:8080/"
        },
        "id": "mbPpjttZyJwI",
        "outputId": "6e8424a9-d690-417b-a105-b81af343e696"
      },
      "execution_count": null,
      "outputs": [
        {
          "output_type": "stream",
          "name": "stdout",
          "text": [
            "\n",
            "=== Organizer Zadań ===\n",
            "1. Dodaj zadanie\n",
            "2. Wyświetl zadania\n",
            "3. Usuń zadanie\n",
            "4. Zakończ\n",
            "Twój wybór: 1\n",
            "Podaj opis zadania: zakupy\n",
            "Podaj termin wykonania (RRRR-MM-DD): 2024-01-19\n",
            "\n",
            "=== Organizer Zadań ===\n",
            "1. Dodaj zadanie\n",
            "2. Wyświetl zadania\n",
            "3. Usuń zadanie\n",
            "4. Zakończ\n",
            "Twój wybór: 2\n",
            "Zadania:\n",
            "1. zakupy (Termin: 2024-01-19)\n",
            "\n",
            "=== Organizer Zadań ===\n",
            "1. Dodaj zadanie\n",
            "2. Wyświetl zadania\n",
            "3. Usuń zadanie\n",
            "4. Zakończ\n"
          ]
        }
      ]
    }
  ],
  "metadata": {
    "colab": {
      "provenance": [],
      "authorship_tag": "ABX9TyOIjmIAs3Xgde+BLYzhp/Xb",
      "include_colab_link": true
    },
    "kernelspec": {
      "display_name": "Python 3",
      "name": "python3"
    },
    "language_info": {
      "name": "python"
    }
  },
  "nbformat": 4,
  "nbformat_minor": 0
}