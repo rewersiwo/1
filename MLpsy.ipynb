{
  "nbformat": 4,
  "nbformat_minor": 0,
  "metadata": {
    "colab": {
      "provenance": [],
      "authorship_tag": "ABX9TyMBCtWkWzkSij6eb0unL0AN",
      "include_colab_link": true
    },
    "kernelspec": {
      "name": "python3",
      "display_name": "Python 3"
    },
    "language_info": {
      "name": "python"
    }
  },
  "cells": [
    {
      "cell_type": "markdown",
      "metadata": {
        "id": "view-in-github",
        "colab_type": "text"
      },
      "source": [
        "<a href=\"https://colab.research.google.com/github/rewersiwo/1/blob/main/MLpsy.ipynb\" target=\"_parent\"><img src=\"https://colab.research.google.com/assets/colab-badge.svg\" alt=\"Open In Colab\"/></a>"
      ]
    },
    {
      "cell_type": "code",
      "source": [
        "import tensorflow as tf\n",
        "from tensorflow.keras.datasets import cifar10\n",
        "from tensorflow.keras.models import Sequential\n",
        "from tensorflow.keras.layers import Conv2D, MaxPooling2D, Flatten, Dense\n",
        "from tensorflow.keras.utils import to_categorical\n",
        "from sklearn.model_selection import train_test_split\n",
        "import numpy as np\n",
        "\n",
        "# Załaduj zbiór danych CIFAR-10\n",
        "(train_images, train_labels), (test_images, test_labels) = cifar10.load_data()\n",
        "\n",
        "# Wybierz tylko obrazy z klasą psów\n",
        "dog_indices = np.where((train_labels == 5) | (train_labels == 7) | (train_labels == 2))[0]\n",
        "dog_images = train_images[dog_indices]\n",
        "dog_labels = train_labels[dog_indices]\n",
        "\n",
        "# Normalizuj obrazy do zakresu [0, 1]\n",
        "dog_images = dog_images.astype('float32') / 255.0\n",
        "\n",
        "# Przekształć etykiety na kodowanie one-hot\n",
        "dog_labels_one_hot = to_categorical(dog_labels, num_classes=10)  # Poprawione na 10 klas\n",
        "\n",
        "# Podziel zbiór na dane treningowe i testowe\n",
        "X_train, X_test, y_train, y_test = train_test_split(dog_images, dog_labels_one_hot, test_size=0.2, random_state=42)\n",
        "\n",
        "# Zbuduj model konwolucyjny\n",
        "model = Sequential()\n",
        "model.add(Conv2D(32, (3, 3), activation='relu', input_shape=(32, 32, 3)))\n",
        "model.add(MaxPooling2D((2, 2)))\n",
        "model.add(Conv2D(64, (3, 3), activation='relu'))\n",
        "model.add(MaxPooling2D((2, 2)))\n",
        "model.add(Conv2D(64, (3, 3), activation='relu'))\n",
        "model.add(Flatten())\n",
        "model.add(Dense(64, activation='relu'))\n",
        "model.add(Dense(10, activation='softmax'))  # Poprawione na 10 klas\n",
        "\n",
        "# Skompiluj model\n",
        "model.compile(optimizer='adam', loss='categorical_crossentropy', metrics=['accuracy'])\n",
        "\n",
        "# Trenuj model\n",
        "model.fit(X_train, y_train, epochs=10, batch_size=64, validation_split=0.2)\n",
        "\n",
        "# Ocen dokładność modelu na zbiorze testowym\n",
        "test_loss, test_acc = model.evaluate(X_test, y_test)\n",
        "print(f'Dokładność modelu na zbiorze testowym: {test_acc}')"
      ],
      "metadata": {
        "colab": {
          "base_uri": "https://localhost:8080/"
        },
        "id": "wVmUK08poVLn",
        "outputId": "07873fa4-c106-4b8b-8000-a8ef4acd9510"
      },
      "execution_count": 4,
      "outputs": [
        {
          "output_type": "stream",
          "name": "stdout",
          "text": [
            "Epoch 1/10\n",
            "150/150 [==============================] - 14s 87ms/step - loss: 1.0674 - accuracy: 0.4661 - val_loss: 0.8985 - val_accuracy: 0.5800\n",
            "Epoch 2/10\n",
            "150/150 [==============================] - 13s 86ms/step - loss: 0.8300 - accuracy: 0.6401 - val_loss: 0.7918 - val_accuracy: 0.6596\n",
            "Epoch 3/10\n",
            "150/150 [==============================] - 14s 92ms/step - loss: 0.7343 - accuracy: 0.6848 - val_loss: 0.7600 - val_accuracy: 0.6637\n",
            "Epoch 4/10\n",
            "150/150 [==============================] - 12s 82ms/step - loss: 0.6459 - accuracy: 0.7323 - val_loss: 0.6470 - val_accuracy: 0.7337\n",
            "Epoch 5/10\n",
            "150/150 [==============================] - 13s 85ms/step - loss: 0.5954 - accuracy: 0.7563 - val_loss: 0.5884 - val_accuracy: 0.7583\n",
            "Epoch 6/10\n",
            "150/150 [==============================] - 12s 82ms/step - loss: 0.5579 - accuracy: 0.7747 - val_loss: 0.5915 - val_accuracy: 0.7563\n",
            "Epoch 7/10\n",
            "150/150 [==============================] - 13s 85ms/step - loss: 0.5128 - accuracy: 0.7950 - val_loss: 0.5485 - val_accuracy: 0.7742\n",
            "Epoch 8/10\n",
            "150/150 [==============================] - 13s 86ms/step - loss: 0.4963 - accuracy: 0.7997 - val_loss: 0.5621 - val_accuracy: 0.7800\n",
            "Epoch 9/10\n",
            "150/150 [==============================] - 13s 85ms/step - loss: 0.4661 - accuracy: 0.8145 - val_loss: 0.5642 - val_accuracy: 0.7700\n",
            "Epoch 10/10\n",
            "150/150 [==============================] - 13s 84ms/step - loss: 0.4520 - accuracy: 0.8249 - val_loss: 0.5743 - val_accuracy: 0.7771\n",
            "94/94 [==============================] - 1s 12ms/step - loss: 0.5573 - accuracy: 0.7843\n",
            "Dokładność modelu na zbiorze testowym: 0.784333348274231\n"
          ]
        }
      ]
    }
  ]
}