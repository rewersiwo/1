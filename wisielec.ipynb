{
  "cells": [
    {
      "cell_type": "markdown",
      "metadata": {
        "id": "view-in-github",
        "colab_type": "text"
      },
      "source": [
        "<a href=\"https://colab.research.google.com/github/rewersiwo/1/blob/main/wisielec.ipynb\" target=\"_parent\"><img src=\"https://colab.research.google.com/assets/colab-badge.svg\" alt=\"Open In Colab\"/></a>"
      ]
    },
    {
      "cell_type": "code",
      "source": [
        "import random\n",
        "\n",
        "def wybierz_slowo():\n",
        "    slowa = [\"kot\", \"pies\", \"samochod\", \"python\", \"komputer\"]\n",
        "    return random.choice(slowa)\n",
        "\n",
        "def gra_w_wisielca():\n",
        "    slowo = wybierz_slowo()\n",
        "    dlugosc_slowa = len(slowo)\n",
        "    odgadniete_litery = ['_'] * dlugosc_slowa\n",
        "    bledy = 0\n",
        "\n",
        "    print(\"Witaj w grze w wisielca!\")\n",
        "\n",
        "    while True:\n",
        "        print(\" \".join(odgadniete_litery))\n",
        "\n",
        "        litera = input(\"Podaj literę: \").lower()\n",
        "\n",
        "        if len(litera) != 1 or not litera.isalpha():\n",
        "            print(\"Podaj poprawną pojedynczą literę.\")\n",
        "            continue\n",
        "\n",
        "        if litera in slowo:\n",
        "            for i in range(dlugosc_slowa):\n",
        "                if slowo[i] == litera:\n",
        "                    odgadniete_litery[i] = litera\n",
        "        else:\n",
        "            bledy += 1\n",
        "            print(f\"Nieprawidłowa litera! Błędy: {bledy}\")\n",
        "\n",
        "        if '_' not in odgadniete_litery:\n",
        "            print(\"Gratulacje! Odgadłeś słowo.\")\n",
        "            break\n",
        "\n",
        "        if bledy == 6:\n",
        "            print(f\"Przegrałeś! Słowo to '{slowo}'.\")\n",
        "            break\n",
        "\n",
        "# Rozpoczęcie gry\n",
        "gra_w_wisielca()s"
      ],
      "metadata": {
        "colab": {
          "base_uri": "https://localhost:8080/"
        },
        "id": "QPsfzRqlxBpc",
        "outputId": "f7040944-4c62-4c2e-c8a1-6bcf14f5de81"
      },
      "execution_count": 39,
      "outputs": [
        {
          "output_type": "stream",
          "name": "stdout",
          "text": [
            "Witaj w grze w wisielca!\n",
            "_ _ _ _\n",
            "Podaj literę: a\n",
            "Nieprawidłowa litera! Błędy: 1\n",
            "_ _ _ _\n",
            "Podaj literę: k\n",
            "Nieprawidłowa litera! Błędy: 2\n",
            "_ _ _ _\n",
            "Podaj literę: z\n",
            "Nieprawidłowa litera! Błędy: 3\n",
            "_ _ _ _\n",
            "Podaj literę: o\n",
            "Nieprawidłowa litera! Błędy: 4\n",
            "_ _ _ _\n",
            "Podaj literę: p\n",
            "p _ _ _\n",
            "Podaj literę: i\n",
            "p i _ _\n",
            "Podaj literę: e\n",
            "p i e _\n",
            "Podaj literę: \n",
            "Podaj poprawną pojedynczą literę.\n",
            "p i e _\n",
            "Podaj literę: \n",
            "Podaj poprawną pojedynczą literę.\n",
            "p i e _\n",
            "Podaj literę: s\n",
            "Gratulacje! Odgadłeś słowo.\n"
          ]
        }
      ]
    }
  ],
  "metadata": {
    "colab": {
      "provenance": [],
      "authorship_tag": "ABX9TyPAXJhJA+OSBWvLuUeP/zdN",
      "include_colab_link": true
    },
    "kernelspec": {
      "display_name": "Python 3",
      "name": "python3"
    },
    "language_info": {
      "name": "python"
    }
  },
  "nbformat": 4,
  "nbformat_minor": 0
}